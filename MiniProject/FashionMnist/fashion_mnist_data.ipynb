{
 "cells": [
  {
   "cell_type": "code",
   "execution_count": 5,
   "id": "d9403716-e488-4360-b0a1-cba0ffd4af23",
   "metadata": {},
   "outputs": [],
   "source": [
    "import os\n",
    "from pathlib import Path\n",
    "import torch\n",
    "import wandb\n",
    "\n",
    "from torch import nn\n",
    "from torch.utils.data import DataLoader, random_split\n",
    "from torchvision import datasets\n",
    "from torchvision.transforms import transforms"
   ]
  },
  {
   "cell_type": "code",
   "execution_count": 6,
   "id": "74086616-4cb0-46e2-a815-a1b030c3125c",
   "metadata": {},
   "outputs": [
    {
     "name": "stdout",
     "output_type": "stream",
     "text": [
      "importing Jupyter notebook from utils.ipynb\n"
     ]
    }
   ],
   "source": [
    "import sys\n",
    "BASE_PATH = \"./\"\n",
    "sys.path.append(BASE_PATH)\n",
    "\n",
    "import import_ipynb\n",
    "from utils import get_num_cpu_cores, is_linux, is_windows"
   ]
  },
  {
   "cell_type": "code",
   "execution_count": 57,
   "id": "58fae690-11b8-4d89-876c-096e0aab9cfd",
   "metadata": {},
   "outputs": [],
   "source": [
    "def calculate_mean_std(data_loader):\n",
    "    imgs = torch.stack([img_t for img_t, _ in data_loader.dataset], dim=3)\n",
    "    print(imgs.shape)\n",
    "    \n",
    "    mean = imgs.view(1, -1).mean(dim=-1)\n",
    "    std = imgs.view(1, -1).std(dim=-1)\n",
    "    \n",
    "    print(\"mean : {0}, std : {1}\".format(mean, std))\n",
    "    return mean, std"
   ]
  },
  {
   "cell_type": "code",
   "execution_count": 61,
   "id": "5cf087d0-b0e4-4429-a815-9b20cce55b57",
   "metadata": {},
   "outputs": [],
   "source": [
    "def get_fashion_mnist_data():\n",
    "    data_path = os.path.join(BASE_PATH, \"Data\", \"fashion_mnist\")\n",
    "    \n",
    "    f_mnist_train = datasets.FashionMNIST(data_path, train=True, download=True, transform=transforms.ToTensor())\n",
    "    f_mnist_train, f_mnist_validation = random_split(f_mnist_train, [55_000, 5_000])\n",
    "    \n",
    "    print(\"Num Train Samples: \", len(f_mnist_train))\n",
    "    print(\"Num Validation Samples: \", len(f_mnist_validation))\n",
    "    print(\"Sample Shape: \", f_mnist_train[0][0].shape)  # torch.Size([1, 28, 28])\n",
    "    \n",
    "    # num_data_loading_workers = get_num_cpu_cores() if is_linux() or is_windows() else 0\n",
    "    num_data_loading_workers = 1\n",
    "    print(\"Number of Data Loading Workers:\", num_data_loading_workers)\n",
    "    \n",
    "    train_data_loader = DataLoader(\n",
    "        dataset=f_mnist_train, batch_size=wandb.config.batch_size, shuffle=True,\n",
    "        pin_memory=True, num_workers=num_data_loading_workers\n",
    "    )\n",
    "    \n",
    "    validation_data_loader = DataLoader(\n",
    "        dataset=f_mnist_validation, batch_size=wandb.config.batch_size,\n",
    "        pin_memory=True, num_workers=num_data_loading_workers\n",
    "    )\n",
    "\n",
    "    mean, std = calculate_mean_std(train_data_loader)\n",
    "    \n",
    "    f_mnist_transforms = nn.Sequential(\n",
    "        transforms.ConvertImageDtype(torch.float),\n",
    "        transforms.Normalize(mean = mean, std = std),\n",
    "    )\n",
    "    \n",
    "    return train_data_loader, validation_data_loader, f_mnist_transforms"
   ]
  },
  {
   "cell_type": "code",
   "execution_count": 62,
   "id": "8665a711-c58e-41f6-8429-f2a5d7201bf3",
   "metadata": {},
   "outputs": [],
   "source": [
    "def get_fashion_mnist_test_data():\n",
    "    data_path = os.path.join(BASE_PATH, \"Data\", \"fashion_mnist\")\n",
    "    \n",
    "    f_mnist_test_images = datasets.FashionMNIST(data_path, train=False, download=True)\n",
    "    f_mnist_test = datasets.FashionMNIST(data_path, train=False, download=True, transform=transforms.ToTensor())\n",
    "    \n",
    "    print(\"Num Test Samples: \", len(f_mnist_test))\n",
    "    print(\"Sample Shape: \", f_mnist_test[0][0].shape)  # torch.Size([1, 28, 28])\n",
    "    \n",
    "    test_data_loader = DataLoader(dataset=f_mnist_test, batch_size=len(f_mnist_test))\n",
    "    \n",
    "    mean, std = calculate_mean_std(test_data_loader)\n",
    "    \n",
    "    f_mnist_transforms = nn.Sequential(\n",
    "        transforms.ConvertImageDtype(torch.float),\n",
    "        transforms.Normalize(mean = mean, std = std),\n",
    "    )\n",
    "    \n",
    "    return f_mnist_test_images, test_data_loader, f_mnist_transforms"
   ]
  },
  {
   "cell_type": "code",
   "execution_count": 63,
   "id": "d8c226cc-bf3a-4258-be41-999771714695",
   "metadata": {},
   "outputs": [
    {
     "name": "stdout",
     "output_type": "stream",
     "text": [
      "Num Train Samples:  55000\n",
      "Num Validation Samples:  5000\n",
      "Sample Shape:  torch.Size([1, 28, 28])\n",
      "Number of Data Loading Workers: 1\n",
      "torch.Size([1, 28, 28, 55000])\n",
      "mean : tensor([0.2858]), std : tensor([0.3529])\n",
      "\n",
      "Num Test Samples:  10000\n",
      "Sample Shape:  torch.Size([1, 28, 28])\n",
      "torch.Size([1, 28, 28, 10000])\n",
      "mean : tensor([0.2868]), std : tensor([0.3524])\n"
     ]
    }
   ],
   "source": [
    "if __name__ == \"__main__\":\n",
    "    config = {'batch_size': 2048,}\n",
    "    wandb.init(mode=\"disabled\", config=config)\n",
    "    \n",
    "    train_data_loader, validation_data_loader, f_mnist_transforms = get_fashion_mnist_data()\n",
    "    print()\n",
    "    f_mnist_test_images, test_data_loader, f_mnist_transforms = get_fashion_mnist_test_data()"
   ]
  },
  {
   "cell_type": "code",
   "execution_count": null,
   "id": "8bcecbb6-3910-4e15-83b5-93979b6a859a",
   "metadata": {},
   "outputs": [],
   "source": []
  }
 ],
 "metadata": {
  "kernelspec": {
   "display_name": "Python 3 (ipykernel)",
   "language": "python",
   "name": "python3"
  },
  "language_info": {
   "codemirror_mode": {
    "name": "ipython",
    "version": 3
   },
   "file_extension": ".py",
   "mimetype": "text/x-python",
   "name": "python",
   "nbconvert_exporter": "python",
   "pygments_lexer": "ipython3",
   "version": "3.11.4"
  }
 },
 "nbformat": 4,
 "nbformat_minor": 5
}
