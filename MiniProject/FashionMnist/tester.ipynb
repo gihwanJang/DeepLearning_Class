{
 "cells": [
  {
   "cell_type": "code",
   "execution_count": 1,
   "id": "6fc398fc-bce8-49c2-b382-9fdd271b5b3b",
   "metadata": {},
   "outputs": [],
   "source": [
    "import os\n",
    "import torch"
   ]
  },
  {
   "cell_type": "code",
   "execution_count": 2,
   "id": "58f00d85-ec85-4736-a4d3-6f147ffd9118",
   "metadata": {},
   "outputs": [],
   "source": [
    "class ClassificationTester:\n",
    "    def __init__(self, project_name, model, test_data_loader, transforms, checkpoint_file_path):\n",
    "        self.project_name = project_name\n",
    "        self.model = model\n",
    "        self.test_data_loader = test_data_loader\n",
    "        self.transforms = transforms\n",
    "    \n",
    "        self.latest_file_path = os.path.join(\n",
    "            checkpoint_file_path, f\"{project_name}_checkpoint_latest.pt\"\n",
    "        )\n",
    "        \n",
    "        print(\"MODEL FILE: {0}\".format(self.latest_file_path))\n",
    "        \n",
    "        self.model.load_state_dict(torch.load(self.latest_file_path, map_location=torch.device('cpu')))\n",
    "    \n",
    "    def test(self):\n",
    "        self.model.eval()\n",
    "        \n",
    "        num_corrects_test = 0\n",
    "        num_tested_samples = 0\n",
    "    \n",
    "        with torch.no_grad():\n",
    "            for test_batch in self.test_data_loader:\n",
    "                input_test, target_test = test_batch\n",
    "        \n",
    "                input_test = self.transforms(input_test)\n",
    "        \n",
    "                output_test = self.model(input_test)\n",
    "        \n",
    "                predicted_test = torch.argmax(output_test, dim=1)\n",
    "                num_corrects_test += torch.sum(torch.eq(predicted_test, target_test))\n",
    "        \n",
    "                num_tested_samples += len(input_test)\n",
    "        \n",
    "            test_accuracy = 100.0 * num_corrects_test / num_tested_samples\n",
    "        \n",
    "        print(f\"TEST RESULTS: {test_accuracy:6.3f}%\")\n",
    "    \n",
    "    def test_single(self, input_test):\n",
    "        self.model.eval()\n",
    "        \n",
    "        with torch.no_grad():\n",
    "            input_test = self.transforms(input_test)\n",
    "            \n",
    "            output_test = self.model(input_test)\n",
    "            predicted_test = torch.argmax(output_test, dim=1)\n",
    "        \n",
    "        return predicted_test.item()\n"
   ]
  },
  {
   "cell_type": "code",
   "execution_count": null,
   "id": "2ef3bd2d-e713-4093-96b7-aa2674cb88dd",
   "metadata": {},
   "outputs": [],
   "source": []
  }
 ],
 "metadata": {
  "kernelspec": {
   "display_name": "Python 3 (ipykernel)",
   "language": "python",
   "name": "python3"
  },
  "language_info": {
   "codemirror_mode": {
    "name": "ipython",
    "version": 3
   },
   "file_extension": ".py",
   "mimetype": "text/x-python",
   "name": "python",
   "nbconvert_exporter": "python",
   "pygments_lexer": "ipython3",
   "version": "3.11.4"
  }
 },
 "nbformat": 4,
 "nbformat_minor": 5
}
