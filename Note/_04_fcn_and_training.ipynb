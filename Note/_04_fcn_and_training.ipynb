{
 "cells": [
  {
   "cell_type": "markdown",
   "id": "ff7bd0ce",
   "metadata": {},
   "source": [
    "# a_my_linear_layer.py"
   ]
  },
  {
   "cell_type": "code",
   "execution_count": 1,
   "id": "01ce2ffb",
   "metadata": {},
   "outputs": [],
   "source": [
    "import torch\n",
    "from torch import nn"
   ]
  },
  {
   "cell_type": "code",
   "execution_count": 2,
   "id": "b842c127",
   "metadata": {},
   "outputs": [],
   "source": [
    "class MyLinear(nn.Module):\n",
    "    def __init__(self, in_features, out_features):\n",
    "        super().__init__()\n",
    "        self.weight = nn.Parameter(torch.randn(out_features, in_features))\n",
    "        self.bias = nn.Parameter(torch.randn(out_features))\n",
    "\n",
    "    def forward(self, input):\n",
    "        return input @ self.weight.t() + self.bias"
   ]
  },
  {
   "cell_type": "markdown",
   "id": "b0c35a64",
   "metadata": {},
   "source": [
    "- nn.Module을 상속 받아 만든 레이어\n",
    "- in_features * out_features에 대한 weigth를 갯수를 가지고 out_features에 대한 bias를 가짐\n",
    "- @ : matmul\n",
    "- self.weight.t() : 텐서에 대한 transpose"
   ]
  },
  {
   "cell_type": "code",
   "execution_count": 5,
   "id": "3d2f1243",
   "metadata": {},
   "outputs": [
    {
     "name": "stdout",
     "output_type": "stream",
     "text": [
      "input.shape: torch.Size([4])\n",
      "my_linear.weight.shape: torch.Size([3, 4])\n",
      "my_linear.bias.shape: torch.Size([3])\n",
      "output.shape: torch.Size([3])\n",
      "tensor([-0.4203, -3.4312, -0.7370], grad_fn=<AddBackward0>)\n",
      "################################################## 1\n",
      "tensor([-0.4203, -3.4312, -0.7370], grad_fn=<AddBackward0>)\n",
      "################################################## 2\n",
      "tensor([[ 4.3584, -6.3833, -2.0364],\n",
      "        [ 0.9813, -1.8385, -0.3435],\n",
      "        [ 2.3345, -9.0422, -2.4427],\n",
      "        [ 0.2911,  0.4767,  0.8136],\n",
      "        [ 3.4141, -1.5411,  0.4961],\n",
      "        [-1.6599, -1.1402,  0.1145],\n",
      "        [-1.2370,  1.6302,  2.7581],\n",
      "        [-4.6392, -1.4896,  1.0107],\n",
      "        [ 1.5482,  0.8550,  0.7785],\n",
      "        [ 1.4138, -0.6657,  1.0373]], grad_fn=<AddBackward0>)\n",
      "################################################## 3\n"
     ]
    },
    {
     "ename": "RuntimeError",
     "evalue": "mat1 and mat2 shapes cannot be multiplied (3200x80 and 4x3)",
     "output_type": "error",
     "traceback": [
      "\u001b[0;31m---------------------------------------------------------------------------\u001b[0m",
      "\u001b[0;31mRuntimeError\u001b[0m                              Traceback (most recent call last)",
      "Cell \u001b[0;32mIn[5], line 29\u001b[0m\n\u001b[1;32m     26\u001b[0m \u001b[38;5;28mprint\u001b[39m(\u001b[38;5;124m\"\u001b[39m\u001b[38;5;124m#\u001b[39m\u001b[38;5;124m\"\u001b[39m \u001b[38;5;241m*\u001b[39m \u001b[38;5;241m50\u001b[39m, \u001b[38;5;241m3\u001b[39m)\n\u001b[1;32m     28\u001b[0m batch_input_2 \u001b[38;5;241m=\u001b[39m torch\u001b[38;5;241m.\u001b[39mrandn(\u001b[38;5;241m10\u001b[39m, \u001b[38;5;241m4\u001b[39m, \u001b[38;5;241m80\u001b[39m, \u001b[38;5;241m80\u001b[39m)\n\u001b[0;32m---> 29\u001b[0m batch_output_2 \u001b[38;5;241m=\u001b[39m \u001b[43mmy_linear\u001b[49m\u001b[43m(\u001b[49m\u001b[43mbatch_input_2\u001b[49m\u001b[43m)\u001b[49m\n\u001b[1;32m     30\u001b[0m \u001b[38;5;28mprint\u001b[39m(batch_output\u001b[38;5;241m.\u001b[39mshape)\n",
      "File \u001b[0;32m/Library/Frameworks/Python.framework/Versions/3.11/lib/python3.11/site-packages/torch/nn/modules/module.py:1501\u001b[0m, in \u001b[0;36mModule._call_impl\u001b[0;34m(self, *args, **kwargs)\u001b[0m\n\u001b[1;32m   1496\u001b[0m \u001b[38;5;66;03m# If we don't have any hooks, we want to skip the rest of the logic in\u001b[39;00m\n\u001b[1;32m   1497\u001b[0m \u001b[38;5;66;03m# this function, and just call forward.\u001b[39;00m\n\u001b[1;32m   1498\u001b[0m \u001b[38;5;28;01mif\u001b[39;00m \u001b[38;5;129;01mnot\u001b[39;00m (\u001b[38;5;28mself\u001b[39m\u001b[38;5;241m.\u001b[39m_backward_hooks \u001b[38;5;129;01mor\u001b[39;00m \u001b[38;5;28mself\u001b[39m\u001b[38;5;241m.\u001b[39m_backward_pre_hooks \u001b[38;5;129;01mor\u001b[39;00m \u001b[38;5;28mself\u001b[39m\u001b[38;5;241m.\u001b[39m_forward_hooks \u001b[38;5;129;01mor\u001b[39;00m \u001b[38;5;28mself\u001b[39m\u001b[38;5;241m.\u001b[39m_forward_pre_hooks\n\u001b[1;32m   1499\u001b[0m         \u001b[38;5;129;01mor\u001b[39;00m _global_backward_pre_hooks \u001b[38;5;129;01mor\u001b[39;00m _global_backward_hooks\n\u001b[1;32m   1500\u001b[0m         \u001b[38;5;129;01mor\u001b[39;00m _global_forward_hooks \u001b[38;5;129;01mor\u001b[39;00m _global_forward_pre_hooks):\n\u001b[0;32m-> 1501\u001b[0m     \u001b[38;5;28;01mreturn\u001b[39;00m \u001b[43mforward_call\u001b[49m\u001b[43m(\u001b[49m\u001b[38;5;241;43m*\u001b[39;49m\u001b[43margs\u001b[49m\u001b[43m,\u001b[49m\u001b[43m \u001b[49m\u001b[38;5;241;43m*\u001b[39;49m\u001b[38;5;241;43m*\u001b[39;49m\u001b[43mkwargs\u001b[49m\u001b[43m)\u001b[49m\n\u001b[1;32m   1502\u001b[0m \u001b[38;5;66;03m# Do not call functions when jit is used\u001b[39;00m\n\u001b[1;32m   1503\u001b[0m full_backward_hooks, non_full_backward_hooks \u001b[38;5;241m=\u001b[39m [], []\n",
      "Cell \u001b[0;32mIn[2], line 8\u001b[0m, in \u001b[0;36mMyLinear.forward\u001b[0;34m(self, input)\u001b[0m\n\u001b[1;32m      7\u001b[0m \u001b[38;5;28;01mdef\u001b[39;00m \u001b[38;5;21mforward\u001b[39m(\u001b[38;5;28mself\u001b[39m, \u001b[38;5;28minput\u001b[39m):\n\u001b[0;32m----> 8\u001b[0m   \u001b[38;5;28;01mreturn\u001b[39;00m \u001b[38;5;28;43minput\u001b[39;49m\u001b[43m \u001b[49m\u001b[38;5;241;43m@\u001b[39;49m\u001b[43m \u001b[49m\u001b[38;5;28;43mself\u001b[39;49m\u001b[38;5;241;43m.\u001b[39;49m\u001b[43mweight\u001b[49m\u001b[38;5;241;43m.\u001b[39;49m\u001b[43mt\u001b[49m\u001b[43m(\u001b[49m\u001b[43m)\u001b[49m \u001b[38;5;241m+\u001b[39m \u001b[38;5;28mself\u001b[39m\u001b[38;5;241m.\u001b[39mbias\n",
      "\u001b[0;31mRuntimeError\u001b[0m: mat1 and mat2 shapes cannot be multiplied (3200x80 and 4x3)"
     ]
    }
   ],
   "source": [
    "if __name__ == \"__main__\":\n",
    "    my_linear = MyLinear(in_features=4, out_features=3)\n",
    "    sample_input = torch.randn(4)\n",
    "    output = my_linear(sample_input)\n",
    "\n",
    "    print(\"input.shape:\", sample_input.shape)\n",
    "    print(\"my_linear.weight.shape:\", my_linear.weight.shape)\n",
    "    print(\"my_linear.bias.shape:\", my_linear.bias.shape)\n",
    "    print(\"output.shape:\", output.shape)\n",
    "    print(output)\n",
    "\n",
    "    print(\"#\" * 50, 1)\n",
    "\n",
    "    my_linear_2 = nn.Linear(in_features=4, out_features=3)\n",
    "    output_2 = my_linear(sample_input)\n",
    "    print(output_2)\n",
    "\n",
    "    assert output.equal(output_2)\n",
    "\n",
    "    print(\"#\" * 50, 2)\n",
    "\n",
    "    batch_input = torch.randn(10, 4)\n",
    "    batch_output = my_linear(batch_input)\n",
    "    print(batch_output)\n",
    "\n",
    "    print(\"#\" * 50, 3)\n",
    "\n",
    "    batch_input_2 = torch.randn(10, 4, 80, 80)\n",
    "    batch_output_2 = my_linear(batch_input_2)\n",
    "    print(batch_output.shape)"
   ]
  },
  {
   "cell_type": "markdown",
   "id": "277ed2a9",
   "metadata": {},
   "source": [
    "- my_linear = MyLinear(in_features=4, out_features=3) : 입력값 4개에 3개의 출력\n",
    "- sample_input = torch.randn(4) : 입력 데이터를 정규분포를 따르는 랜덤한 4개의 값\n",
    "- output = my_linear(sample_input) : 3개로 나옴\n",
    "- batch_input_2 = torch.randn(10, 4, 80, 80) -> 이미지 데이터는 넣을 수 없음"
   ]
  },
  {
   "cell_type": "markdown",
   "id": "d662eb12",
   "metadata": {},
   "source": [
    "# b_my_model.py"
   ]
  },
  {
   "cell_type": "code",
   "execution_count": 6,
   "id": "07368e2d",
   "metadata": {},
   "outputs": [],
   "source": [
    "import torch\n",
    "from torch import nn"
   ]
  },
  {
   "cell_type": "code",
   "execution_count": 7,
   "id": "8c88b774",
   "metadata": {},
   "outputs": [],
   "source": [
    "class MyFirstModel(nn.Module):\n",
    "    def __init__(self, n_input, n_hidden_unit, n_output):\n",
    "        super().__init__()\n",
    "\n",
    "        # Inputs to 1st hidden linear layer\n",
    "        self.hidden = nn.Linear(n_input, n_hidden_unit)\n",
    "        self.sigmoid = nn.Sigmoid()\n",
    "\n",
    "        # Output layer\n",
    "        self.output = nn.Linear(n_hidden_unit, n_output)\n",
    "        self.softmax = nn.Softmax(dim=1)\n",
    "\n",
    "    def forward(self, x):\n",
    "        x = self.hidden(x)\n",
    "        x = self.sigmoid(x)\n",
    "        x = self.output(x)\n",
    "        x = self.softmax(x)\n",
    "        return x"
   ]
  },
  {
   "cell_type": "code",
   "execution_count": null,
   "id": "82167ecc",
   "metadata": {},
   "outputs": [],
   "source": []
  }
 ],
 "metadata": {
  "kernelspec": {
   "display_name": "Python 3 (ipykernel)",
   "language": "python",
   "name": "python3"
  },
  "language_info": {
   "codemirror_mode": {
    "name": "ipython",
    "version": 3
   },
   "file_extension": ".py",
   "mimetype": "text/x-python",
   "name": "python",
   "nbconvert_exporter": "python",
   "pygments_lexer": "ipython3",
   "version": "3.11.4"
  }
 },
 "nbformat": 4,
 "nbformat_minor": 5
}
