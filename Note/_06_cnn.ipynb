{
 "cells": [
  {
   "cell_type": "code",
   "execution_count": 1,
   "id": "b55ebc13",
   "metadata": {},
   "outputs": [],
   "source": [
    "import torch\n",
    "from torch import nn, optim\n",
    "from datetime import datetime\n",
    "import os\n",
    "import wandb\n",
    "from pathlib import Path"
   ]
  },
  {
   "cell_type": "code",
   "execution_count": 2,
   "id": "d5ce278e",
   "metadata": {},
   "outputs": [],
   "source": [
    "from string import Template\n",
    "\n",
    "class DeltaTemplate(Template):\n",
    "    delimiter = \"%\"\n",
    "\n",
    "    def strfdelta(tdelta, fmt):\n",
    "        d = {\"D\": tdelta.days}\n",
    "        d[\"H\"], rem = divmod(tdelta.seconds, 3600)\n",
    "        d[\"M\"], d[\"S\"] = divmod(rem, 60)\n",
    "        t = DeltaTemplate(fmt)\n",
    "        return t.substitute(**d)\n",
    "\n",
    "def strfdelta(td, fmt):\n",
    "\n",
    "    # Get the timedelta’s sign and absolute number of seconds.\n",
    "    sign = \"-\" if td.days < 0 else \"+\"\n",
    "    secs = abs(td).total_seconds()\n",
    "\n",
    "    # Break the seconds into more readable quantities.\n",
    "    days, rem = divmod(secs, 86400)  # Seconds per day: 24 * 60 * 60\n",
    "    hours, rem = divmod(rem, 3600)  # Seconds per hour: 60 * 60\n",
    "    mins, secs = divmod(rem, 60)\n",
    "\n",
    "    # Format (as per above answers) and return the result string.\n",
    "    t = DeltaTemplate(fmt)\n",
    "    return t.substitute(\n",
    "            s=sign,\n",
    "            D=\"{:d}\".format(int(days)),\n",
    "            H=\"{:02d}\".format(int(hours)),\n",
    "            M=\"{:02d}\".format(int(mins)),\n",
    "            S=\"{:02d}\".format(int(secs)),\n",
    "        )"
   ]
  },
  {
   "cell_type": "code",
   "execution_count": 3,
   "id": "20924bb2",
   "metadata": {},
   "outputs": [],
   "source": [
    "class EarlyStopping:\n",
    "    \"\"\"Early stops the training if validation loss doesn't improve after a given patience.\"\"\"\n",
    "    def __init__(self, patience=10, delta=0.0001, project_name=None, checkpoint_file_path=None, run_time_str=None):\n",
    "        self.patience = patience\n",
    "        self.counter = 0\n",
    "        self.delta = delta\n",
    "\n",
    "        self.val_loss_min = None\n",
    "        self.file_path = os.path.join(\n",
    "            checkpoint_file_path, f\"{project_name}_checkpoint_{run_time_str}.pt\"\n",
    "        )\n",
    "        self.latest_file_path = os.path.join(\n",
    "            checkpoint_file_path, f\"{project_name}_checkpoint_latest.pt\"\n",
    "        )\n",
    "\n",
    "    def check_and_save(self, new_validation_loss, model):\n",
    "        early_stop = False\n",
    "\n",
    "        if self.val_loss_min is None:\n",
    "            self.val_loss_min = new_validation_loss\n",
    "            message = f'Early stopping is stated!'\n",
    "        elif new_validation_loss < self.val_loss_min - self.delta:\n",
    "            message = f'V_loss decreased ({self.val_loss_min:6.3f} --> {new_validation_loss:6.3f}). Saving model...'\n",
    "            self.save_checkpoint(new_validation_loss, model)\n",
    "            self.val_loss_min = new_validation_loss\n",
    "            self.counter = 0\n",
    "        else:\n",
    "            self.counter += 1\n",
    "            message = f'Early stopping counter: {self.counter} out of {self.patience}'\n",
    "            if self.counter >= self.patience:\n",
    "                early_stop = True\n",
    "                message += \" *** TRAIN EARLY STOPPED! ***\"\n",
    "\n",
    "        return message, early_stop\n",
    "    \n",
    "    def save_checkpoint(self, val_loss, model):\n",
    "        '''Saves model when validation loss decrease.'''\n",
    "        torch.save(model.state_dict(), self.file_path)\n",
    "        torch.save(model.state_dict(), self.latest_file_path)\n",
    "        self.val_loss_min = val_loss"
   ]
  },
  {
   "cell_type": "code",
   "execution_count": 4,
   "id": "5b2e06cb",
   "metadata": {},
   "outputs": [],
   "source": [
    "class ClassificationTrainer:\n",
    "    def __init__(\n",
    "        self, project_name, model, optimizer, train_data_loader, validation_data_loader, transforms,\n",
    "        run_time_str, wandb, device, checkpoint_file_path\n",
    "    ):\n",
    "        self.project_name = project_name\n",
    "        self.model = model\n",
    "        self.optimizer = optimizer\n",
    "        self.train_data_loader = train_data_loader\n",
    "        self.validation_data_loader = validation_data_loader\n",
    "        self.transforms = transforms\n",
    "        self.run_time_str = run_time_str\n",
    "        self.wandb = wandb\n",
    "        self.device = device\n",
    "        self.checkpoint_file_path = checkpoint_file_path\n",
    "\n",
    "        # Use a built-in loss function\n",
    "        self.loss_fn = nn.CrossEntropyLoss()\n",
    "\n",
    "    def do_train(self):\n",
    "        self.model.train()  # Explained at 'Diverse Techniques' section\n",
    "\n",
    "        loss_train = 0.0\n",
    "        num_corrects_train = 0\n",
    "        num_trained_samples = 0\n",
    "        num_trains = 0\n",
    "\n",
    "        for train_batch in self.train_data_loader:\n",
    "            input_train, target_train = train_batch\n",
    "            input_train = input_train.to(device=self.device)\n",
    "            target_train = target_train.to(device=self.device)\n",
    "\n",
    "            input_train = self.transforms(input_train)\n",
    "\n",
    "            output_train = self.model(input_train)\n",
    "            loss = self.loss_fn(output_train, target_train)\n",
    "            loss_train += loss.item()\n",
    "\n",
    "            predicted_train = torch.argmax(output_train, dim=1)\n",
    "            num_corrects_train += torch.sum(torch.eq(predicted_train, target_train)).item()\n",
    "\n",
    "            num_trained_samples += len(input_train)\n",
    "            num_trains += 1\n",
    "\n",
    "            self.optimizer.zero_grad()\n",
    "            loss.backward()\n",
    "            self.optimizer.step()\n",
    "\n",
    "        train_loss = loss_train / num_trains\n",
    "        train_accuracy = 100.0 * num_corrects_train / num_trained_samples\n",
    "\n",
    "        return train_loss, train_accuracy\n",
    "\n",
    "    def do_validation(self):\n",
    "        self.model.eval()   # Explained at 'Diverse Techniques' section\n",
    "\n",
    "        loss_validation = 0.0\n",
    "        num_corrects_validation = 0\n",
    "        num_validated_samples = 0\n",
    "        num_validations = 0\n",
    "\n",
    "        with torch.no_grad():\n",
    "            for validation_batch in self.validation_data_loader:\n",
    "                input_validation, target_validation = validation_batch\n",
    "                input_validation = input_validation.to(device=self.device)\n",
    "                target_validation = target_validation.to(device=self.device)\n",
    "\n",
    "                input_validation = self.transforms(input_validation)\n",
    "\n",
    "                output_validation = self.model(input_validation)\n",
    "                loss_validation += self.loss_fn(output_validation, target_validation).item()\n",
    "\n",
    "                predicted_validation = torch.argmax(output_validation, dim=1)\n",
    "                num_corrects_validation += torch.sum(torch.eq(predicted_validation, target_validation)).item()\n",
    "\n",
    "                num_validated_samples += len(input_validation)\n",
    "                num_validations += 1\n",
    "\n",
    "        validation_loss = loss_validation / num_validations\n",
    "        validation_accuracy = 100.0 * num_corrects_validation / num_validated_samples\n",
    "\n",
    "        return validation_loss, validation_accuracy\n",
    "\n",
    "    def train_loop(self):\n",
    "        early_stopping = EarlyStopping(\n",
    "        patience=self.wandb.config.early_stop_patience,\n",
    "        project_name=self.project_name,\n",
    "        checkpoint_file_path=self.checkpoint_file_path,\n",
    "        run_time_str=self.run_time_str\n",
    "        )\n",
    "        n_epochs = self.wandb.config.epochs\n",
    "        training_start_time = datetime.now()\n",
    "\n",
    "        for epoch in range(1, n_epochs + 1):\n",
    "            train_loss, train_accuracy = self.do_train()\n",
    "\n",
    "            if epoch == 1 or epoch % self.wandb.config.validation_intervals == 0:\n",
    "                validation_loss, validation_accuracy = self.do_validation()\n",
    "\n",
    "                elapsed_time = datetime.now() - training_start_time\n",
    "                epoch_per_second = epoch / elapsed_time.seconds\n",
    "\n",
    "                message, early_stop = early_stopping.check_and_save(validation_loss, self.model)\n",
    "\n",
    "                print(\n",
    "                    f\"[Epoch {epoch:>3}] \"\n",
    "                    f\"T_loss: {train_loss:6.4f}, \"\n",
    "                    f\"T_accuracy: {train_accuracy:6.4f} | \"\n",
    "                    f\"V_loss: {validation_loss:6.4f}, \"\n",
    "                    f\"V_accuracy: {validation_accuracy:6.4f} | \"\n",
    "                    f\"{message} | \"\n",
    "                    f\"T_time: {strfdelta(elapsed_time, '%H:%M:%S')}, \"\n",
    "                    f\"T_speed: {epoch_per_second:4.3f}\"\n",
    "                )\n",
    "\n",
    "                self.wandb.log({\n",
    "                    \"Epoch\": epoch,\n",
    "                    \"Training loss\": train_loss,\n",
    "                    \"Training accuracy (%)\": train_accuracy,\n",
    "                    \"Validation loss\": validation_loss,\n",
    "                    \"Validation accuracy (%)\": validation_accuracy,\n",
    "                    \"Training speed (epochs/sec.)\": epoch_per_second,\n",
    "                })\n",
    "\n",
    "                if early_stop:\n",
    "                    break\n",
    "\n",
    "        elapsed_time = datetime.now() - training_start_time\n",
    "        print(f\"Final training time: {strfdelta(elapsed_time, '%H:%M:%S')}\")\n"
   ]
  },
  {
   "cell_type": "code",
   "execution_count": 5,
   "id": "a3c83097",
   "metadata": {},
   "outputs": [],
   "source": [
    "class ClassificationTester:\n",
    "    def __init__(self, project_name, model, test_data_loader, transforms, checkpoint_file_path):\n",
    "        self.project_name = project_name\n",
    "        self.model = model\n",
    "        self.test_data_loader = test_data_loader\n",
    "        self.transforms = transforms\n",
    "\n",
    "        self.latest_file_path = os.path.join(\n",
    "            checkpoint_file_path, f\"{project_name}_checkpoint_latest.pt\"\n",
    "        )\n",
    "\n",
    "        print(\"MODEL FILE: {0}\".format(self.latest_file_path))\n",
    "\n",
    "        self.model.load_state_dict(torch.load(self.latest_file_path, map_location=torch.device('cpu')))\n",
    "\n",
    "    def test(self):\n",
    "        self.model.eval()    # Explained at 'Diverse Techniques' section\n",
    "\n",
    "        num_corrects_test = 0\n",
    "        num_tested_samples = 0\n",
    "\n",
    "        with torch.no_grad():\n",
    "            for test_batch in self.test_data_loader:\n",
    "                input_test, target_test = test_batch\n",
    "\n",
    "                input_test = self.transforms(input_test)\n",
    "\n",
    "                output_test = self.model(input_test)\n",
    "\n",
    "                predicted_test = torch.argmax(output_test, dim=1)\n",
    "                num_corrects_test += torch.sum(torch.eq(predicted_test, target_test))\n",
    "\n",
    "                num_tested_samples += len(input_test)\n",
    "\n",
    "            test_accuracy = 100.0 * num_corrects_test / num_tested_samples\n",
    "\n",
    "        print(f\"TEST RESULTS: {test_accuracy:6.3f}%\")\n",
    "\n",
    "    def test_single(self, input_test):\n",
    "        self.model.eval()    # Explained at 'Diverse Techniques' section\n",
    "\n",
    "        with torch.no_grad():\n",
    "            input_test = self.transforms(input_test)\n",
    "\n",
    "            output_test = self.model(input_test)\n",
    "            predicted_test = torch.argmax(output_test, dim=1)\n",
    "\n",
    "        return predicted_test.item()"
   ]
  },
  {
   "cell_type": "code",
   "execution_count": 6,
   "id": "af11097e",
   "metadata": {},
   "outputs": [],
   "source": [
    "import torch\n",
    "from torch import nn, optim\n",
    "from torch.utils.data import DataLoader, random_split\n",
    "from torchvision import datasets, transforms\n",
    "from datetime import datetime\n",
    "import os\n",
    "import wandb\n",
    "from pathlib import Path\n",
    "\n",
    "CHECKPOINT_FILE_PATH = \"./Mnist_Output\""
   ]
  },
  {
   "cell_type": "code",
   "execution_count": 64,
   "id": "5cb15fbf",
   "metadata": {},
   "outputs": [],
   "source": [
    "def get_mnist_data(flatten=False):\n",
    "    data_path = \"../Data/h_h_mnist\"\n",
    "\n",
    "    mnist_train = datasets.MNIST(data_path, train=True, download=True, transform=transforms.ToTensor())\n",
    "    mnist_train, mnist_validation = random_split(mnist_train, [55_000, 5_000])\n",
    "\n",
    "    print(\"Num Train Samples: \", len(mnist_train))\n",
    "    print(\"Num Validation Samples: \", len(mnist_validation))\n",
    "\n",
    "    #num_data_loading_workers = os.cpu_count() or 1\n",
    "    num_data_loading_workers = 1\n",
    "    print(\"Number of Data Loading Workers:\", num_data_loading_workers)\n",
    "\n",
    "    train_data_loader = DataLoader(\n",
    "        dataset=mnist_train, batch_size=wandb.config.batch_size, shuffle=True,\n",
    "        pin_memory=True, num_workers=num_data_loading_workers\n",
    "    )\n",
    "\n",
    "    validation_data_loader = DataLoader(\n",
    "        dataset=mnist_validation, batch_size=wandb.config.batch_size,\n",
    "        pin_memory=True, num_workers=num_data_loading_workers\n",
    "    )\n",
    "\n",
    "    mnist_transforms = nn.Sequential(\n",
    "        transforms.ConvertImageDtype(torch.float),\n",
    "        transforms.Normalize(mean=0.1307, std=0.3081),\n",
    "    )\n",
    "\n",
    "    if flatten:\n",
    "        mnist_transforms.append(nn.Flatten())\n",
    "\n",
    "    return train_data_loader, validation_data_loader, mnist_transforms"
   ]
  },
  {
   "cell_type": "code",
   "execution_count": null,
   "id": "da20f431",
   "metadata": {},
   "outputs": [],
   "source": []
  },
  {
   "cell_type": "code",
   "execution_count": 47,
   "id": "1c499a16",
   "metadata": {},
   "outputs": [],
   "source": [
    "def get_cnn_model():\n",
    "    class MyModel(nn.Module):\n",
    "        def __init__(self, in_channels, n_output):\n",
    "            super().__init__()\n",
    "\n",
    "            self.model = nn.Sequential(\n",
    "                # B x 1 x 28 x 28 --> B x 6 x (28 - 5 + 1) x (28 - 5 + 1) = B x 6 x 24 x 24\n",
    "                nn.Conv2d(in_channels=in_channels, out_channels=6, kernel_size=(5, 5), stride=(1, 1)),\n",
    "                # B x 6 x 24 x 24 --> B x 6 x 12 x 12\n",
    "                nn.MaxPool2d(kernel_size=2, stride=2),\n",
    "                nn.ReLU(),\n",
    "                # B x 6 x 12 x 12 --> B x 16 x (12 - 5 + 1) x (12 - 5 + 1) = B x 16 x 8 x 8\n",
    "                nn.Conv2d(in_channels=6, out_channels=16, kernel_size=(5, 5), stride=(1, 1)),\n",
    "                # B x 16 x 8 x 8 --> B x 16 x 4 x 4\n",
    "                nn.MaxPool2d(kernel_size=2, stride=2),\n",
    "                nn.ReLU(),\n",
    "                nn.Flatten(),\n",
    "                nn.Linear(256, 128),\n",
    "                nn.ReLU(),\n",
    "                nn.Linear(128, n_output),\n",
    "              )\n",
    "\n",
    "        def forward(self, x):\n",
    "            x = self.model(x)\n",
    "            return x\n",
    "\n",
    "    # 1 * 28 * 28\n",
    "    my_model = MyModel(in_channels=1, n_output=10)\n",
    "\n",
    "    return my_model"
   ]
  },
  {
   "cell_type": "code",
   "execution_count": 60,
   "id": "7bc07478",
   "metadata": {},
   "outputs": [],
   "source": [
    "def main(args_wandb, args_epochs, args_batch_size, args_validation_intervals, args_learning_rate, args_early_stop_patience):\n",
    "    run_time_str = datetime.now().astimezone().strftime('%Y-%m-%d_%H-%M-%S')\n",
    "\n",
    "    config = {\n",
    "        'epochs': args_epochs,\n",
    "        'batch_size': args_batch_size,\n",
    "        'validation_intervals': args_validation_intervals,\n",
    "        'learning_rate': args_learning_rate,\n",
    "        'early_stop_patience': args_early_stop_patience\n",
    "    }\n",
    "\n",
    "    project_name = \"cnn_mnist\"\n",
    "    wandb.init(\n",
    "        mode=\"online\" if args_wandb else \"disabled\",\n",
    "        project=project_name,\n",
    "        notes=\"mnist experiment with cnn\",\n",
    "        tags=[\"cnn\", \"mnist\"],\n",
    "        name=run_time_str,\n",
    "        config=config\n",
    "    )\n",
    "    print(wandb.config)\n",
    "\n",
    "    device = torch.device(\"cuda:0\" if torch.cuda.is_available() else \"cpu\")\n",
    "    print(f\"Training on device {device}.\")\n",
    "\n",
    "    train_data_loader, validation_data_loader, mnist_transforms = get_mnist_data(flatten=False)\n",
    "    model = get_cnn_model()\n",
    "    model.to(device)\n",
    "    wandb.watch(model)\n",
    "\n",
    "    from torchinfo import summary\n",
    "    summary(model=model, input_size=(1, 1, 28, 28))\n",
    "\n",
    "    optimizer = optim.SGD(model.parameters(), lr=wandb.config.learning_rate)\n",
    "\n",
    "    classification_trainer = ClassificationTrainer(\n",
    "        project_name, model, optimizer, train_data_loader, validation_data_loader, mnist_transforms,\n",
    "        run_time_str, wandb, device, CHECKPOINT_FILE_PATH\n",
    "    )\n",
    "    classification_trainer.train_loop()\n",
    "\n",
    "    wandb.finish()"
   ]
  },
  {
   "cell_type": "code",
   "execution_count": 65,
   "id": "8312f8e5",
   "metadata": {},
   "outputs": [
    {
     "data": {
      "text/html": [
       "Finishing last run (ID:zey5qgd7) before initializing another..."
      ],
      "text/plain": [
       "<IPython.core.display.HTML object>"
      ]
     },
     "metadata": {},
     "output_type": "display_data"
    },
    {
     "data": {
      "text/html": [
       "Waiting for W&B process to finish... <strong style=\"color:green\">(success).</strong>"
      ],
      "text/plain": [
       "<IPython.core.display.HTML object>"
      ]
     },
     "metadata": {},
     "output_type": "display_data"
    },
    {
     "data": {
      "application/vnd.jupyter.widget-view+json": {
       "model_id": "9859fae1c3c24389a15636cd596d86ce",
       "version_major": 2,
       "version_minor": 0
      },
      "text/plain": [
       "VBox(children=(Label(value='0.001 MB of 0.001 MB uploaded (0.000 MB deduped)\\r'), FloatProgress(value=1.0, max…"
      ]
     },
     "metadata": {},
     "output_type": "display_data"
    },
    {
     "data": {
      "text/html": [
       "<style>\n",
       "    table.wandb td:nth-child(1) { padding: 0 10px; text-align: left ; width: auto;} td:nth-child(2) {text-align: left ; width: 100%}\n",
       "    .wandb-row { display: flex; flex-direction: row; flex-wrap: wrap; justify-content: flex-start; width: 100% }\n",
       "    .wandb-col { display: flex; flex-direction: column; flex-basis: 100%; flex: 1; padding: 10px; }\n",
       "    </style>\n",
       "<div class=\"wandb-row\"><div class=\"wandb-col\"><h3>Run history:</h3><br/><table class=\"wandb\"><tr><td>Epoch</td><td>▁▄█</td></tr><tr><td>Training accuracy (%)</td><td>▁██</td></tr><tr><td>Training loss</td><td>█▁▁</td></tr><tr><td>Training speed (epochs/sec.)</td><td>▁▇█</td></tr><tr><td>Validation accuracy (%)</td><td>▁██</td></tr><tr><td>Validation loss</td><td>█▁▁</td></tr></table><br/></div><div class=\"wandb-col\"><h3>Run summary:</h3><br/><table class=\"wandb\"><tr><td>Epoch</td><td>20</td></tr><tr><td>Training accuracy (%)</td><td>97.44364</td></tr><tr><td>Training loss</td><td>0.08463</td></tr><tr><td>Training speed (epochs/sec.)</td><td>0.07692</td></tr><tr><td>Validation accuracy (%)</td><td>97.46</td></tr><tr><td>Validation loss</td><td>0.08921</td></tr></table><br/></div></div>"
      ],
      "text/plain": [
       "<IPython.core.display.HTML object>"
      ]
     },
     "metadata": {},
     "output_type": "display_data"
    },
    {
     "data": {
      "text/html": [
       " View run <strong style=\"color:#cdcd00\">2023-10-25_12-27-29</strong> at: <a href='https://wandb.ai/gihwanjang/cnn_mnist/runs/zey5qgd7' target=\"_blank\">https://wandb.ai/gihwanjang/cnn_mnist/runs/zey5qgd7</a><br/> View job at <a href='https://wandb.ai/gihwanjang/cnn_mnist/jobs/QXJ0aWZhY3RDb2xsZWN0aW9uOjEwOTY4NzA0Mg==/version_details/v3' target=\"_blank\">https://wandb.ai/gihwanjang/cnn_mnist/jobs/QXJ0aWZhY3RDb2xsZWN0aW9uOjEwOTY4NzA0Mg==/version_details/v3</a><br/>Synced 5 W&B file(s), 0 media file(s), 2 artifact file(s) and 0 other file(s)"
      ],
      "text/plain": [
       "<IPython.core.display.HTML object>"
      ]
     },
     "metadata": {},
     "output_type": "display_data"
    },
    {
     "data": {
      "text/html": [
       "Find logs at: <code>./wandb/run-20231025_122729-zey5qgd7/logs</code>"
      ],
      "text/plain": [
       "<IPython.core.display.HTML object>"
      ]
     },
     "metadata": {},
     "output_type": "display_data"
    },
    {
     "data": {
      "text/html": [
       "Successfully finished last run (ID:zey5qgd7). Initializing new run:<br/>"
      ],
      "text/plain": [
       "<IPython.core.display.HTML object>"
      ]
     },
     "metadata": {},
     "output_type": "display_data"
    },
    {
     "data": {
      "application/vnd.jupyter.widget-view+json": {
       "model_id": "e441680b5f964628b48bb7c04a9eb56a",
       "version_major": 2,
       "version_minor": 0
      },
      "text/plain": [
       "VBox(children=(Label(value='Waiting for wandb.init()...\\r'), FloatProgress(value=0.011167615744569856, max=1.0…"
      ]
     },
     "metadata": {},
     "output_type": "display_data"
    },
    {
     "data": {
      "text/html": [
       "wandb version 0.15.12 is available!  To upgrade, please run:\n",
       " $ pip install wandb --upgrade"
      ],
      "text/plain": [
       "<IPython.core.display.HTML object>"
      ]
     },
     "metadata": {},
     "output_type": "display_data"
    },
    {
     "data": {
      "text/html": [
       "Tracking run with wandb version 0.15.11"
      ],
      "text/plain": [
       "<IPython.core.display.HTML object>"
      ]
     },
     "metadata": {},
     "output_type": "display_data"
    },
    {
     "data": {
      "text/html": [
       "Run data is saved locally in <code>/Users/jang-gihwan/Desktop/DeepLearing/AI_Learning/Note/wandb/run-20231025_123217-ciyved0u</code>"
      ],
      "text/plain": [
       "<IPython.core.display.HTML object>"
      ]
     },
     "metadata": {},
     "output_type": "display_data"
    },
    {
     "data": {
      "text/html": [
       "Syncing run <strong><a href='https://wandb.ai/gihwanjang/cnn_mnist/runs/ciyved0u' target=\"_blank\">2023-10-25_12-32-17</a></strong> to <a href='https://wandb.ai/gihwanjang/cnn_mnist' target=\"_blank\">Weights & Biases</a> (<a href='https://wandb.me/run' target=\"_blank\">docs</a>)<br/>"
      ],
      "text/plain": [
       "<IPython.core.display.HTML object>"
      ]
     },
     "metadata": {},
     "output_type": "display_data"
    },
    {
     "data": {
      "text/html": [
       " View project at <a href='https://wandb.ai/gihwanjang/cnn_mnist' target=\"_blank\">https://wandb.ai/gihwanjang/cnn_mnist</a>"
      ],
      "text/plain": [
       "<IPython.core.display.HTML object>"
      ]
     },
     "metadata": {},
     "output_type": "display_data"
    },
    {
     "data": {
      "text/html": [
       " View run at <a href='https://wandb.ai/gihwanjang/cnn_mnist/runs/ciyved0u' target=\"_blank\">https://wandb.ai/gihwanjang/cnn_mnist/runs/ciyved0u</a>"
      ],
      "text/plain": [
       "<IPython.core.display.HTML object>"
      ]
     },
     "metadata": {},
     "output_type": "display_data"
    },
    {
     "name": "stdout",
     "output_type": "stream",
     "text": [
      "{'epochs': 200, 'batch_size': 32, 'validation_intervals': 10, 'learning_rate': 0.001, 'early_stop_patience': 10}\n",
      "Training on device cpu.\n",
      "Num Train Samples:  55000\n",
      "Num Validation Samples:  5000\n",
      "Number of Data Loading Workers: 1\n",
      "[Epoch   1] T_loss: 2.2501, T_accuracy: 21.8509 | V_loss: 2.0942, V_accuracy: 52.7200 | Early stopping is stated! | T_time: 00:00:14, T_speed: 0.071\n",
      "[Epoch  10] T_loss: 0.1458, T_accuracy: 95.8382 | V_loss: 0.1414, V_accuracy: 96.0200 | V_loss decreased ( 2.094 -->  0.141). Saving model... | T_time: 00:02:07, T_speed: 0.079\n",
      "[Epoch  20] T_loss: 0.0876, T_accuracy: 97.4164 | V_loss: 0.0923, V_accuracy: 97.5000 | V_loss decreased ( 0.141 -->  0.092). Saving model... | T_time: 00:04:13, T_speed: 0.079\n",
      "[Epoch  30] T_loss: 0.0653, T_accuracy: 98.0236 | V_loss: 0.0762, V_accuracy: 97.8600 | V_loss decreased ( 0.092 -->  0.076). Saving model... | T_time: 00:06:20, T_speed: 0.079\n",
      "[Epoch  40] T_loss: 0.0523, T_accuracy: 98.4291 | V_loss: 0.0645, V_accuracy: 98.1600 | V_loss decreased ( 0.076 -->  0.064). Saving model... | T_time: 00:08:26, T_speed: 0.079\n",
      "[Epoch  50] T_loss: 0.0441, T_accuracy: 98.6327 | V_loss: 0.0605, V_accuracy: 98.4400 | V_loss decreased ( 0.064 -->  0.061). Saving model... | T_time: 00:10:33, T_speed: 0.079\n",
      "[Epoch  60] T_loss: 0.0377, T_accuracy: 98.8636 | V_loss: 0.0567, V_accuracy: 98.4000 | V_loss decreased ( 0.061 -->  0.057). Saving model... | T_time: 00:12:39, T_speed: 0.079\n",
      "[Epoch  70] T_loss: 0.0327, T_accuracy: 99.0236 | V_loss: 0.0542, V_accuracy: 98.4800 | V_loss decreased ( 0.057 -->  0.054). Saving model... | T_time: 00:14:45, T_speed: 0.079\n",
      "[Epoch  80] T_loss: 0.0286, T_accuracy: 99.1218 | V_loss: 0.0543, V_accuracy: 98.5400 | Early stopping counter: 1 out of 10 | T_time: 00:16:51, T_speed: 0.079\n"
     ]
    },
    {
     "ename": "KeyboardInterrupt",
     "evalue": "",
     "output_type": "error",
     "traceback": [
      "\u001b[0;31m---------------------------------------------------------------------------\u001b[0m",
      "\u001b[0;31mKeyboardInterrupt\u001b[0m                         Traceback (most recent call last)",
      "Cell \u001b[0;32mIn[65], line 10\u001b[0m\n\u001b[1;32m      8\u001b[0m args_learning_rate \u001b[38;5;241m=\u001b[39m \u001b[38;5;241m0.001\u001b[39m\n\u001b[1;32m      9\u001b[0m args_early_stop_patience \u001b[38;5;241m=\u001b[39m \u001b[38;5;241m10\u001b[39m\n\u001b[0;32m---> 10\u001b[0m \u001b[43mmain\u001b[49m\u001b[43m(\u001b[49m\u001b[43margs_wandb\u001b[49m\u001b[43m,\u001b[49m\u001b[43m \u001b[49m\u001b[43margs_epochs\u001b[49m\u001b[43m,\u001b[49m\u001b[43m \u001b[49m\u001b[43margs_batch_size\u001b[49m\u001b[43m,\u001b[49m\u001b[43m \u001b[49m\u001b[43margs_validation_intervals\u001b[49m\u001b[43m,\u001b[49m\u001b[43m \u001b[49m\u001b[43margs_learning_rate\u001b[49m\u001b[43m,\u001b[49m\u001b[43m \u001b[49m\u001b[43margs_early_stop_patience\u001b[49m\u001b[43m)\u001b[49m\n",
      "Cell \u001b[0;32mIn[60], line 40\u001b[0m, in \u001b[0;36mmain\u001b[0;34m(args_wandb, args_epochs, args_batch_size, args_validation_intervals, args_learning_rate, args_early_stop_patience)\u001b[0m\n\u001b[1;32m     34\u001b[0m optimizer \u001b[38;5;241m=\u001b[39m optim\u001b[38;5;241m.\u001b[39mSGD(model\u001b[38;5;241m.\u001b[39mparameters(), lr\u001b[38;5;241m=\u001b[39mwandb\u001b[38;5;241m.\u001b[39mconfig\u001b[38;5;241m.\u001b[39mlearning_rate)\n\u001b[1;32m     36\u001b[0m classification_trainer \u001b[38;5;241m=\u001b[39m ClassificationTrainer(\n\u001b[1;32m     37\u001b[0m     project_name, model, optimizer, train_data_loader, validation_data_loader, mnist_transforms,\n\u001b[1;32m     38\u001b[0m     run_time_str, wandb, device, CHECKPOINT_FILE_PATH\n\u001b[1;32m     39\u001b[0m )\n\u001b[0;32m---> 40\u001b[0m \u001b[43mclassification_trainer\u001b[49m\u001b[38;5;241;43m.\u001b[39;49m\u001b[43mtrain_loop\u001b[49m\u001b[43m(\u001b[49m\u001b[43m)\u001b[49m\n\u001b[1;32m     42\u001b[0m wandb\u001b[38;5;241m.\u001b[39mfinish()\n",
      "Cell \u001b[0;32mIn[5], line 95\u001b[0m, in \u001b[0;36mClassificationTrainer.train_loop\u001b[0;34m(self)\u001b[0m\n\u001b[1;32m     92\u001b[0m training_start_time \u001b[38;5;241m=\u001b[39m datetime\u001b[38;5;241m.\u001b[39mnow()\n\u001b[1;32m     94\u001b[0m \u001b[38;5;28;01mfor\u001b[39;00m epoch \u001b[38;5;129;01min\u001b[39;00m \u001b[38;5;28mrange\u001b[39m(\u001b[38;5;241m1\u001b[39m, n_epochs \u001b[38;5;241m+\u001b[39m \u001b[38;5;241m1\u001b[39m):\n\u001b[0;32m---> 95\u001b[0m     train_loss, train_accuracy \u001b[38;5;241m=\u001b[39m \u001b[38;5;28;43mself\u001b[39;49m\u001b[38;5;241;43m.\u001b[39;49m\u001b[43mdo_train\u001b[49m\u001b[43m(\u001b[49m\u001b[43m)\u001b[49m\n\u001b[1;32m     97\u001b[0m     \u001b[38;5;28;01mif\u001b[39;00m epoch \u001b[38;5;241m==\u001b[39m \u001b[38;5;241m1\u001b[39m \u001b[38;5;129;01mor\u001b[39;00m epoch \u001b[38;5;241m%\u001b[39m \u001b[38;5;28mself\u001b[39m\u001b[38;5;241m.\u001b[39mwandb\u001b[38;5;241m.\u001b[39mconfig\u001b[38;5;241m.\u001b[39mvalidation_intervals \u001b[38;5;241m==\u001b[39m \u001b[38;5;241m0\u001b[39m:\n\u001b[1;32m     98\u001b[0m         validation_loss, validation_accuracy \u001b[38;5;241m=\u001b[39m \u001b[38;5;28mself\u001b[39m\u001b[38;5;241m.\u001b[39mdo_validation()\n",
      "Cell \u001b[0;32mIn[5], line 28\u001b[0m, in \u001b[0;36mClassificationTrainer.do_train\u001b[0;34m(self)\u001b[0m\n\u001b[1;32m     25\u001b[0m num_trained_samples \u001b[38;5;241m=\u001b[39m \u001b[38;5;241m0\u001b[39m\n\u001b[1;32m     26\u001b[0m num_trains \u001b[38;5;241m=\u001b[39m \u001b[38;5;241m0\u001b[39m\n\u001b[0;32m---> 28\u001b[0m \u001b[38;5;28;01mfor\u001b[39;00m train_batch \u001b[38;5;129;01min\u001b[39;00m \u001b[38;5;28mself\u001b[39m\u001b[38;5;241m.\u001b[39mtrain_data_loader:\n\u001b[1;32m     29\u001b[0m     input_train, target_train \u001b[38;5;241m=\u001b[39m train_batch\n\u001b[1;32m     30\u001b[0m     input_train \u001b[38;5;241m=\u001b[39m input_train\u001b[38;5;241m.\u001b[39mto(device\u001b[38;5;241m=\u001b[39m\u001b[38;5;28mself\u001b[39m\u001b[38;5;241m.\u001b[39mdevice)\n",
      "File \u001b[0;32m/Library/Frameworks/Python.framework/Versions/3.11/lib/python3.11/site-packages/torch/utils/data/dataloader.py:633\u001b[0m, in \u001b[0;36m_BaseDataLoaderIter.__next__\u001b[0;34m(self)\u001b[0m\n\u001b[1;32m    630\u001b[0m \u001b[38;5;28;01mif\u001b[39;00m \u001b[38;5;28mself\u001b[39m\u001b[38;5;241m.\u001b[39m_sampler_iter \u001b[38;5;129;01mis\u001b[39;00m \u001b[38;5;28;01mNone\u001b[39;00m:\n\u001b[1;32m    631\u001b[0m     \u001b[38;5;66;03m# TODO(https://github.com/pytorch/pytorch/issues/76750)\u001b[39;00m\n\u001b[1;32m    632\u001b[0m     \u001b[38;5;28mself\u001b[39m\u001b[38;5;241m.\u001b[39m_reset()  \u001b[38;5;66;03m# type: ignore[call-arg]\u001b[39;00m\n\u001b[0;32m--> 633\u001b[0m data \u001b[38;5;241m=\u001b[39m \u001b[38;5;28;43mself\u001b[39;49m\u001b[38;5;241;43m.\u001b[39;49m\u001b[43m_next_data\u001b[49m\u001b[43m(\u001b[49m\u001b[43m)\u001b[49m\n\u001b[1;32m    634\u001b[0m \u001b[38;5;28mself\u001b[39m\u001b[38;5;241m.\u001b[39m_num_yielded \u001b[38;5;241m+\u001b[39m\u001b[38;5;241m=\u001b[39m \u001b[38;5;241m1\u001b[39m\n\u001b[1;32m    635\u001b[0m \u001b[38;5;28;01mif\u001b[39;00m \u001b[38;5;28mself\u001b[39m\u001b[38;5;241m.\u001b[39m_dataset_kind \u001b[38;5;241m==\u001b[39m _DatasetKind\u001b[38;5;241m.\u001b[39mIterable \u001b[38;5;129;01mand\u001b[39;00m \\\n\u001b[1;32m    636\u001b[0m         \u001b[38;5;28mself\u001b[39m\u001b[38;5;241m.\u001b[39m_IterableDataset_len_called \u001b[38;5;129;01mis\u001b[39;00m \u001b[38;5;129;01mnot\u001b[39;00m \u001b[38;5;28;01mNone\u001b[39;00m \u001b[38;5;129;01mand\u001b[39;00m \\\n\u001b[1;32m    637\u001b[0m         \u001b[38;5;28mself\u001b[39m\u001b[38;5;241m.\u001b[39m_num_yielded \u001b[38;5;241m>\u001b[39m \u001b[38;5;28mself\u001b[39m\u001b[38;5;241m.\u001b[39m_IterableDataset_len_called:\n",
      "File \u001b[0;32m/Library/Frameworks/Python.framework/Versions/3.11/lib/python3.11/site-packages/torch/utils/data/dataloader.py:1328\u001b[0m, in \u001b[0;36m_MultiProcessingDataLoaderIter._next_data\u001b[0;34m(self)\u001b[0m\n\u001b[1;32m   1325\u001b[0m     \u001b[38;5;28;01mreturn\u001b[39;00m \u001b[38;5;28mself\u001b[39m\u001b[38;5;241m.\u001b[39m_process_data(data)\n\u001b[1;32m   1327\u001b[0m \u001b[38;5;28;01massert\u001b[39;00m \u001b[38;5;129;01mnot\u001b[39;00m \u001b[38;5;28mself\u001b[39m\u001b[38;5;241m.\u001b[39m_shutdown \u001b[38;5;129;01mand\u001b[39;00m \u001b[38;5;28mself\u001b[39m\u001b[38;5;241m.\u001b[39m_tasks_outstanding \u001b[38;5;241m>\u001b[39m \u001b[38;5;241m0\u001b[39m\n\u001b[0;32m-> 1328\u001b[0m idx, data \u001b[38;5;241m=\u001b[39m \u001b[38;5;28;43mself\u001b[39;49m\u001b[38;5;241;43m.\u001b[39;49m\u001b[43m_get_data\u001b[49m\u001b[43m(\u001b[49m\u001b[43m)\u001b[49m\n\u001b[1;32m   1329\u001b[0m \u001b[38;5;28mself\u001b[39m\u001b[38;5;241m.\u001b[39m_tasks_outstanding \u001b[38;5;241m-\u001b[39m\u001b[38;5;241m=\u001b[39m \u001b[38;5;241m1\u001b[39m\n\u001b[1;32m   1330\u001b[0m \u001b[38;5;28;01mif\u001b[39;00m \u001b[38;5;28mself\u001b[39m\u001b[38;5;241m.\u001b[39m_dataset_kind \u001b[38;5;241m==\u001b[39m _DatasetKind\u001b[38;5;241m.\u001b[39mIterable:\n\u001b[1;32m   1331\u001b[0m     \u001b[38;5;66;03m# Check for _IterableDatasetStopIteration\u001b[39;00m\n",
      "File \u001b[0;32m/Library/Frameworks/Python.framework/Versions/3.11/lib/python3.11/site-packages/torch/utils/data/dataloader.py:1294\u001b[0m, in \u001b[0;36m_MultiProcessingDataLoaderIter._get_data\u001b[0;34m(self)\u001b[0m\n\u001b[1;32m   1290\u001b[0m     \u001b[38;5;66;03m# In this case, `self._data_queue` is a `queue.Queue`,. But we don't\u001b[39;00m\n\u001b[1;32m   1291\u001b[0m     \u001b[38;5;66;03m# need to call `.task_done()` because we don't use `.join()`.\u001b[39;00m\n\u001b[1;32m   1292\u001b[0m \u001b[38;5;28;01melse\u001b[39;00m:\n\u001b[1;32m   1293\u001b[0m     \u001b[38;5;28;01mwhile\u001b[39;00m \u001b[38;5;28;01mTrue\u001b[39;00m:\n\u001b[0;32m-> 1294\u001b[0m         success, data \u001b[38;5;241m=\u001b[39m \u001b[38;5;28;43mself\u001b[39;49m\u001b[38;5;241;43m.\u001b[39;49m\u001b[43m_try_get_data\u001b[49m\u001b[43m(\u001b[49m\u001b[43m)\u001b[49m\n\u001b[1;32m   1295\u001b[0m         \u001b[38;5;28;01mif\u001b[39;00m success:\n\u001b[1;32m   1296\u001b[0m             \u001b[38;5;28;01mreturn\u001b[39;00m data\n",
      "File \u001b[0;32m/Library/Frameworks/Python.framework/Versions/3.11/lib/python3.11/site-packages/torch/utils/data/dataloader.py:1132\u001b[0m, in \u001b[0;36m_MultiProcessingDataLoaderIter._try_get_data\u001b[0;34m(self, timeout)\u001b[0m\n\u001b[1;32m   1119\u001b[0m \u001b[38;5;28;01mdef\u001b[39;00m \u001b[38;5;21m_try_get_data\u001b[39m(\u001b[38;5;28mself\u001b[39m, timeout\u001b[38;5;241m=\u001b[39m_utils\u001b[38;5;241m.\u001b[39mMP_STATUS_CHECK_INTERVAL):\n\u001b[1;32m   1120\u001b[0m     \u001b[38;5;66;03m# Tries to fetch data from `self._data_queue` once for a given timeout.\u001b[39;00m\n\u001b[1;32m   1121\u001b[0m     \u001b[38;5;66;03m# This can also be used as inner loop of fetching without timeout, with\u001b[39;00m\n\u001b[0;32m   (...)\u001b[0m\n\u001b[1;32m   1129\u001b[0m     \u001b[38;5;66;03m# Returns a 2-tuple:\u001b[39;00m\n\u001b[1;32m   1130\u001b[0m     \u001b[38;5;66;03m#   (bool: whether successfully get data, any: data if successful else None)\u001b[39;00m\n\u001b[1;32m   1131\u001b[0m     \u001b[38;5;28;01mtry\u001b[39;00m:\n\u001b[0;32m-> 1132\u001b[0m         data \u001b[38;5;241m=\u001b[39m \u001b[38;5;28;43mself\u001b[39;49m\u001b[38;5;241;43m.\u001b[39;49m\u001b[43m_data_queue\u001b[49m\u001b[38;5;241;43m.\u001b[39;49m\u001b[43mget\u001b[49m\u001b[43m(\u001b[49m\u001b[43mtimeout\u001b[49m\u001b[38;5;241;43m=\u001b[39;49m\u001b[43mtimeout\u001b[49m\u001b[43m)\u001b[49m\n\u001b[1;32m   1133\u001b[0m         \u001b[38;5;28;01mreturn\u001b[39;00m (\u001b[38;5;28;01mTrue\u001b[39;00m, data)\n\u001b[1;32m   1134\u001b[0m     \u001b[38;5;28;01mexcept\u001b[39;00m \u001b[38;5;167;01mException\u001b[39;00m \u001b[38;5;28;01mas\u001b[39;00m e:\n\u001b[1;32m   1135\u001b[0m         \u001b[38;5;66;03m# At timeout and error, we manually check whether any worker has\u001b[39;00m\n\u001b[1;32m   1136\u001b[0m         \u001b[38;5;66;03m# failed. Note that this is the only mechanism for Windows to detect\u001b[39;00m\n\u001b[1;32m   1137\u001b[0m         \u001b[38;5;66;03m# worker failures.\u001b[39;00m\n",
      "File \u001b[0;32m/Library/Frameworks/Python.framework/Versions/3.11/lib/python3.11/multiprocessing/queues.py:113\u001b[0m, in \u001b[0;36mQueue.get\u001b[0;34m(self, block, timeout)\u001b[0m\n\u001b[1;32m    111\u001b[0m \u001b[38;5;28;01mif\u001b[39;00m block:\n\u001b[1;32m    112\u001b[0m     timeout \u001b[38;5;241m=\u001b[39m deadline \u001b[38;5;241m-\u001b[39m time\u001b[38;5;241m.\u001b[39mmonotonic()\n\u001b[0;32m--> 113\u001b[0m     \u001b[38;5;28;01mif\u001b[39;00m \u001b[38;5;129;01mnot\u001b[39;00m \u001b[38;5;28;43mself\u001b[39;49m\u001b[38;5;241;43m.\u001b[39;49m\u001b[43m_poll\u001b[49m\u001b[43m(\u001b[49m\u001b[43mtimeout\u001b[49m\u001b[43m)\u001b[49m:\n\u001b[1;32m    114\u001b[0m         \u001b[38;5;28;01mraise\u001b[39;00m Empty\n\u001b[1;32m    115\u001b[0m \u001b[38;5;28;01melif\u001b[39;00m \u001b[38;5;129;01mnot\u001b[39;00m \u001b[38;5;28mself\u001b[39m\u001b[38;5;241m.\u001b[39m_poll():\n",
      "File \u001b[0;32m/Library/Frameworks/Python.framework/Versions/3.11/lib/python3.11/multiprocessing/connection.py:256\u001b[0m, in \u001b[0;36m_ConnectionBase.poll\u001b[0;34m(self, timeout)\u001b[0m\n\u001b[1;32m    254\u001b[0m \u001b[38;5;28mself\u001b[39m\u001b[38;5;241m.\u001b[39m_check_closed()\n\u001b[1;32m    255\u001b[0m \u001b[38;5;28mself\u001b[39m\u001b[38;5;241m.\u001b[39m_check_readable()\n\u001b[0;32m--> 256\u001b[0m \u001b[38;5;28;01mreturn\u001b[39;00m \u001b[38;5;28;43mself\u001b[39;49m\u001b[38;5;241;43m.\u001b[39;49m\u001b[43m_poll\u001b[49m\u001b[43m(\u001b[49m\u001b[43mtimeout\u001b[49m\u001b[43m)\u001b[49m\n",
      "File \u001b[0;32m/Library/Frameworks/Python.framework/Versions/3.11/lib/python3.11/multiprocessing/connection.py:423\u001b[0m, in \u001b[0;36mConnection._poll\u001b[0;34m(self, timeout)\u001b[0m\n\u001b[1;32m    422\u001b[0m \u001b[38;5;28;01mdef\u001b[39;00m \u001b[38;5;21m_poll\u001b[39m(\u001b[38;5;28mself\u001b[39m, timeout):\n\u001b[0;32m--> 423\u001b[0m     r \u001b[38;5;241m=\u001b[39m \u001b[43mwait\u001b[49m\u001b[43m(\u001b[49m\u001b[43m[\u001b[49m\u001b[38;5;28;43mself\u001b[39;49m\u001b[43m]\u001b[49m\u001b[43m,\u001b[49m\u001b[43m \u001b[49m\u001b[43mtimeout\u001b[49m\u001b[43m)\u001b[49m\n\u001b[1;32m    424\u001b[0m     \u001b[38;5;28;01mreturn\u001b[39;00m \u001b[38;5;28mbool\u001b[39m(r)\n",
      "File \u001b[0;32m/Library/Frameworks/Python.framework/Versions/3.11/lib/python3.11/multiprocessing/connection.py:930\u001b[0m, in \u001b[0;36mwait\u001b[0;34m(object_list, timeout)\u001b[0m\n\u001b[1;32m    927\u001b[0m     deadline \u001b[38;5;241m=\u001b[39m time\u001b[38;5;241m.\u001b[39mmonotonic() \u001b[38;5;241m+\u001b[39m timeout\n\u001b[1;32m    929\u001b[0m \u001b[38;5;28;01mwhile\u001b[39;00m \u001b[38;5;28;01mTrue\u001b[39;00m:\n\u001b[0;32m--> 930\u001b[0m     ready \u001b[38;5;241m=\u001b[39m \u001b[43mselector\u001b[49m\u001b[38;5;241;43m.\u001b[39;49m\u001b[43mselect\u001b[49m\u001b[43m(\u001b[49m\u001b[43mtimeout\u001b[49m\u001b[43m)\u001b[49m\n\u001b[1;32m    931\u001b[0m     \u001b[38;5;28;01mif\u001b[39;00m ready:\n\u001b[1;32m    932\u001b[0m         \u001b[38;5;28;01mreturn\u001b[39;00m [key\u001b[38;5;241m.\u001b[39mfileobj \u001b[38;5;28;01mfor\u001b[39;00m (key, events) \u001b[38;5;129;01min\u001b[39;00m ready]\n",
      "File \u001b[0;32m/Library/Frameworks/Python.framework/Versions/3.11/lib/python3.11/selectors.py:415\u001b[0m, in \u001b[0;36m_PollLikeSelector.select\u001b[0;34m(self, timeout)\u001b[0m\n\u001b[1;32m    413\u001b[0m ready \u001b[38;5;241m=\u001b[39m []\n\u001b[1;32m    414\u001b[0m \u001b[38;5;28;01mtry\u001b[39;00m:\n\u001b[0;32m--> 415\u001b[0m     fd_event_list \u001b[38;5;241m=\u001b[39m \u001b[38;5;28mself\u001b[39m\u001b[38;5;241m.\u001b[39m_selector\u001b[38;5;241m.\u001b[39mpoll(timeout)\n\u001b[1;32m    416\u001b[0m \u001b[38;5;28;01mexcept\u001b[39;00m \u001b[38;5;167;01mInterruptedError\u001b[39;00m:\n\u001b[1;32m    417\u001b[0m     \u001b[38;5;28;01mreturn\u001b[39;00m ready\n",
      "\u001b[0;31mKeyboardInterrupt\u001b[0m: "
     ]
    }
   ],
   "source": [
    "if __name__ == \"__main__\":\n",
    "    #parser = get_parser()\n",
    "    #args = parser.parse_args()\n",
    "    args_wandb = True\n",
    "    args_epochs = 200\n",
    "    args_batch_size = 32\n",
    "    args_validation_intervals = 10\n",
    "    args_learning_rate = 0.001\n",
    "    args_early_stop_patience = 10\n",
    "    main(args_wandb, args_epochs, args_batch_size, args_validation_intervals, args_learning_rate, args_early_stop_patience)"
   ]
  },
  {
   "cell_type": "code",
   "execution_count": null,
   "id": "00490e03",
   "metadata": {},
   "outputs": [],
   "source": []
  },
  {
   "cell_type": "code",
   "execution_count": 50,
   "id": "5456577a",
   "metadata": {},
   "outputs": [],
   "source": [
    "import numpy as np\n",
    "import torch\n",
    "import os\n",
    "\n",
    "from matplotlib import pyplot as plt\n",
    "from torch import nn\n",
    "from torchvision import transforms, datasets\n",
    "from pathlib import Path\n",
    "\n",
    "from torch.utils.data import DataLoader"
   ]
  },
  {
   "cell_type": "code",
   "execution_count": 51,
   "id": "b5ec4352",
   "metadata": {},
   "outputs": [],
   "source": [
    "def get_mnist_test_data(flatten=False):\n",
    "    data_path = \"../Data/h_mnist\"\n",
    "\n",
    "    mnist_test_images = datasets.MNIST(data_path, train=False, download=True)\n",
    "\n",
    "    mnist_test = datasets.MNIST(data_path, train=False, download=True, transform=transforms.ToTensor())\n",
    "    test_data_loader = DataLoader(dataset=mnist_test, batch_size=len(mnist_test))\n",
    "\n",
    "    mnist_transforms = nn.Sequential(\n",
    "        transforms.ConvertImageDtype(torch.float),\n",
    "        transforms.Normalize(mean=0.1307, std=0.3081),\n",
    "    )\n",
    "\n",
    "    if flatten:\n",
    "        mnist_transforms.append(\n",
    "        nn.Flatten()\n",
    "    )\n",
    "\n",
    "    return mnist_test_images, test_data_loader, mnist_transforms"
   ]
  },
  {
   "cell_type": "code",
   "execution_count": 54,
   "id": "28a2cfd0",
   "metadata": {},
   "outputs": [],
   "source": [
    "def main():\n",
    "    mnist_test_images, test_data_loader, mnist_transforms = get_mnist_test_data(flatten=False)\n",
    "\n",
    "    test_model = get_cnn_model()\n",
    "    classification_tester = ClassificationTester(\n",
    "        \"cnn_mnist\", test_model, test_data_loader, mnist_transforms, CHECKPOINT_FILE_PATH\n",
    "    )\n",
    "    classification_tester.test()\n",
    "\n",
    "    print()\n",
    "\n",
    "    img, label = mnist_test_images[0]\n",
    "    print(\"     LABEL:\", label)\n",
    "    plt.imshow(img)\n",
    "    plt.show()\n",
    "\n",
    "    # torch.tensor(np.array(mnist_test_images[0][0])).unsqueeze(dim=0).unsqueeze(dim=0).shape: (1, 1, 28, 28)\n",
    "    output = classification_tester.test_single(\n",
    "        torch.tensor(np.array(mnist_test_images[0][0])).unsqueeze(dim=0).unsqueeze(dim=0)\n",
    "    )\n",
    "    print(\"PREDICTION:\", output)"
   ]
  },
  {
   "cell_type": "code",
   "execution_count": 55,
   "id": "46809a53",
   "metadata": {},
   "outputs": [
    {
     "name": "stdout",
     "output_type": "stream",
     "text": [
      "MODEL FILE: ./Mnist_Output/cnn_mnist_checkpoint_latest.pt\n",
      "TEST RESULTS: 98.920%\n",
      "\n",
      "     LABEL: 7\n"
     ]
    },
    {
     "data": {
      "image/png": "[encoded data removed]",
      "text/plain": [
       "<Figure size 640x480 with 1 Axes>"
      ]
     },
     "metadata": {},
     "output_type": "display_data"
    },
    {
     "name": "stdout",
     "output_type": "stream",
     "text": [
      "PREDICTION: 7\n"
     ]
    }
   ],
   "source": [
    "if __name__ == \"__main__\":\n",
    "    main()"
   ]
  },
  {
   "cell_type": "code",
   "execution_count": null,
   "id": "ac84defd",
   "metadata": {},
   "outputs": [],
   "source": []
  },
  {
   "cell_type": "code",
   "execution_count": 8,
   "id": "ba432a3e",
   "metadata": {},
   "outputs": [],
   "source": [
    "import torch\n",
    "from torch import nn, optim\n",
    "from torch.utils.data import DataLoader, random_split\n",
    "from torchvision import datasets, transforms\n",
    "from datetime import datetime\n",
    "import os\n",
    "import wandb\n",
    "from pathlib import Path"
   ]
  },
  {
   "cell_type": "code",
   "execution_count": 9,
   "id": "7860d8b1",
   "metadata": {},
   "outputs": [],
   "source": [
    "def get_cifar10_data(flatten=False):\n",
    "    data_path = \"../Data/i_cifar10\"\n",
    "\n",
    "    print(\"DATA PATH: {0}\".format(data_path))\n",
    "\n",
    "    cifar10_train = datasets.CIFAR10(data_path, train=True, download=True, transform=transforms.ToTensor())\n",
    "\n",
    "    cifar10_train, cifar10_validation = random_split(cifar10_train, [45_000, 5_000])\n",
    "\n",
    "    print(\"Num Train Samples: \", len(cifar10_train))\n",
    "    print(\"Num Validation Samples: \", len(cifar10_validation))\n",
    "\n",
    "    num_data_loading_workers = 1\n",
    "    print(\"Number of Data Loading Workers:\", num_data_loading_workers)\n",
    "\n",
    "    train_data_loader = DataLoader(\n",
    "        dataset=cifar10_train, batch_size=wandb.config.batch_size, shuffle=True,\n",
    "        pin_memory=True, num_workers=num_data_loading_workers\n",
    "    )\n",
    "\n",
    "    validation_data_loader = DataLoader(\n",
    "        dataset=cifar10_validation, batch_size=wandb.config.batch_size,\n",
    "        pin_memory=True, num_workers=num_data_loading_workers\n",
    "    )\n",
    "\n",
    "    cifar10_transforms = nn.Sequential(\n",
    "        transforms.ConvertImageDtype(torch.float),\n",
    "        transforms.Normalize(mean=(0.4915, 0.4823, 0.4468), std=(0.2470, 0.2435, 0.2616)),\n",
    "    )\n",
    "\n",
    "    if flatten:\n",
    "        cifar10_transforms.append(nn.Flatten())\n",
    "\n",
    "    return train_data_loader, validation_data_loader, cifar10_transforms"
   ]
  },
  {
   "cell_type": "code",
   "execution_count": 10,
   "id": "74930114",
   "metadata": {},
   "outputs": [],
   "source": [
    "def get_cnn_model():\n",
    "  class MyModel(nn.Module):\n",
    "    def __init__(self, in_channels, n_output):\n",
    "      super().__init__()\n",
    "\n",
    "      self.model = nn.Sequential(\n",
    "        # B x 3 x 32 x 32 --> B x 6 x (32 - 5 + 1) x (32 - 5 + 1) = B x 6 x 28 x 28\n",
    "        nn.Conv2d(in_channels=in_channels, out_channels=6, kernel_size=(5, 5), stride=(1, 1)),\n",
    "        # B x 6 x 28 x 28 --> B x 6 x 14 x 14\n",
    "        nn.MaxPool2d(kernel_size=2, stride=2),\n",
    "        nn.ReLU(),\n",
    "        # B x 6 x 14 x 14 --> B x 16 x (14 - 5 + 1) x (14 - 5 + 1) = B x 16 x 10 x 10\n",
    "        nn.Conv2d(in_channels=6, out_channels=16, kernel_size=(5, 5), stride=(1, 1)),\n",
    "        # B x 16 x 10 x 10 --> B x 16 x 5 x 5\n",
    "        nn.MaxPool2d(kernel_size=2, stride=2),\n",
    "        nn.ReLU(),\n",
    "        nn.Flatten(),\n",
    "        nn.Linear(400, 128),\n",
    "        nn.ReLU(),\n",
    "        nn.Linear(128, n_output),\n",
    "      )\n",
    "\n",
    "    def forward(self, x):\n",
    "      x = self.model(x)\n",
    "      # print(x.shape, \"!!!\")\n",
    "      return x\n",
    "\n",
    "  # 3 * 32 * 32\n",
    "  my_model = MyModel(in_channels=3, n_output=10)\n",
    "\n",
    "  return my_model"
   ]
  },
  {
   "cell_type": "code",
   "execution_count": 15,
   "id": "0fee8a56",
   "metadata": {},
   "outputs": [],
   "source": [
    "def main(args_wandb, args_epochs, args_batch_size, args_validation_intervals, args_learning_rate, args_early_stop_patience):\n",
    "  run_time_str = datetime.now().astimezone().strftime('%Y-%m-%d_%H-%M-%S')\n",
    "\n",
    "  config = {\n",
    "    'epochs': args_epochs,\n",
    "    'batch_size': args_batch_size,\n",
    "    'validation_intervals': args_validation_intervals,\n",
    "    'learning_rate': args_learning_rate,\n",
    "    'early_stop_patience': args_early_stop_patience\n",
    "  }\n",
    "\n",
    "  project_name = \"cnn_cifar10\"\n",
    "  wandb.init(\n",
    "    mode=\"online\" if args_wandb else \"disabled\",\n",
    "    project=project_name,\n",
    "    notes=\"cifar10 experiment with cnn\",\n",
    "    tags=[\"cnn\", \"cifar10\"],\n",
    "    name=run_time_str,\n",
    "    config=config\n",
    "  )\n",
    "  print(wandb.config)\n",
    "\n",
    "  device = torch.device(\"cuda:0\" if torch.cuda.is_available() else \"cpu\")\n",
    "  print(f\"Training on device {device}.\")\n",
    "\n",
    "  train_data_loader, validation_data_loader, cifar10_transforms = get_cifar10_data(flatten=False)\n",
    "  model = get_cnn_model()\n",
    "  model.to(device)\n",
    "  wandb.watch(model)\n",
    "\n",
    "  from torchinfo import summary\n",
    "  summary(model=model, input_size=(1, 3, 32, 32))\n",
    "\n",
    "  optimizer = optim.SGD(model.parameters(), lr=wandb.config.learning_rate)\n",
    "\n",
    "  classification_trainer = ClassificationTrainer(\n",
    "    project_name, model, optimizer, train_data_loader, validation_data_loader, cifar10_transforms,\n",
    "    run_time_str, wandb, device, CHECKPOINT_FILE_PATH\n",
    "  )\n",
    "  classification_trainer.train_loop()\n",
    "\n",
    "  wandb.finish()"
   ]
  },
  {
   "cell_type": "code",
   "execution_count": 16,
   "id": "39033c3b",
   "metadata": {},
   "outputs": [
    {
     "name": "stderr",
     "output_type": "stream",
     "text": [
      "\u001b[34m\u001b[1mwandb\u001b[0m: Currently logged in as: \u001b[33mgihwan319\u001b[0m (\u001b[33mgihwanjang\u001b[0m). Use \u001b[1m`wandb login --relogin`\u001b[0m to force relogin\n"
     ]
    },
    {
     "data": {
      "application/vnd.jupyter.widget-view+json": {
       "model_id": "6025ecc9790a4fdf9f285de583ff9eae",
       "version_major": 2,
       "version_minor": 0
      },
      "text/plain": [
       "VBox(children=(Label(value='Waiting for wandb.init()...\\r'), FloatProgress(value=0.011168994900071994, max=1.0…"
      ]
     },
     "metadata": {},
     "output_type": "display_data"
    },
    {
     "data": {
      "text/html": [
       "wandb version 0.15.12 is available!  To upgrade, please run:\n",
       " $ pip install wandb --upgrade"
      ],
      "text/plain": [
       "<IPython.core.display.HTML object>"
      ]
     },
     "metadata": {},
     "output_type": "display_data"
    },
    {
     "data": {
      "text/html": [
       "Tracking run with wandb version 0.15.11"
      ],
      "text/plain": [
       "<IPython.core.display.HTML object>"
      ]
     },
     "metadata": {},
     "output_type": "display_data"
    },
    {
     "data": {
      "text/html": [
       "Run data is saved locally in <code>/Users/jang-gihwan/Desktop/DeepLearing/AI_Learning/Note/wandb/run-20231101_111353-7ypur1dp</code>"
      ],
      "text/plain": [
       "<IPython.core.display.HTML object>"
      ]
     },
     "metadata": {},
     "output_type": "display_data"
    },
    {
     "data": {
      "text/html": [
       "Syncing run <strong><a href='https://wandb.ai/gihwanjang/cnn_cifar10/runs/7ypur1dp' target=\"_blank\">2023-11-01_11-13-52</a></strong> to <a href='https://wandb.ai/gihwanjang/cnn_cifar10' target=\"_blank\">Weights & Biases</a> (<a href='https://wandb.me/run' target=\"_blank\">docs</a>)<br/>"
      ],
      "text/plain": [
       "<IPython.core.display.HTML object>"
      ]
     },
     "metadata": {},
     "output_type": "display_data"
    },
    {
     "data": {
      "text/html": [
       " View project at <a href='https://wandb.ai/gihwanjang/cnn_cifar10' target=\"_blank\">https://wandb.ai/gihwanjang/cnn_cifar10</a>"
      ],
      "text/plain": [
       "<IPython.core.display.HTML object>"
      ]
     },
     "metadata": {},
     "output_type": "display_data"
    },
    {
     "data": {
      "text/html": [
       " View run at <a href='https://wandb.ai/gihwanjang/cnn_cifar10/runs/7ypur1dp' target=\"_blank\">https://wandb.ai/gihwanjang/cnn_cifar10/runs/7ypur1dp</a>"
      ],
      "text/plain": [
       "<IPython.core.display.HTML object>"
      ]
     },
     "metadata": {},
     "output_type": "display_data"
    },
    {
     "name": "stdout",
     "output_type": "stream",
     "text": [
      "{'epochs': 200, 'batch_size': 32, 'validation_intervals': 10, 'learning_rate': 0.001, 'early_stop_patience': 10}\n",
      "Training on device cpu.\n",
      "DATA PATH: ../Data/i_cifar10\n",
      "Files already downloaded and verified\n",
      "Num Train Samples:  45000\n",
      "Num Validation Samples:  5000\n",
      "Number of Data Loading Workers: 1\n",
      "[Epoch   1] T_loss: 2.2883, T_accuracy: 13.1622 | V_loss: 2.2595, V_accuracy: 17.9000 | Early stopping is stated! | T_time: 00:00:29, T_speed: 0.034\n",
      "[Epoch  10] T_loss: 1.5524, T_accuracy: 44.5933 | V_loss: 1.5475, V_accuracy: 44.1400 | V_loss decreased ( 2.260 -->  1.548). Saving model... | T_time: 00:03:41, T_speed: 0.045\n",
      "[Epoch  20] T_loss: 1.3417, T_accuracy: 52.1867 | V_loss: 1.3364, V_accuracy: 53.0800 | V_loss decreased ( 1.548 -->  1.336). Saving model... | T_time: 00:07:10, T_speed: 0.047\n",
      "[Epoch  30] T_loss: 1.2121, T_accuracy: 57.2044 | V_loss: 1.2122, V_accuracy: 57.3000 | V_loss decreased ( 1.336 -->  1.212). Saving model... | T_time: 00:10:39, T_speed: 0.047\n",
      "[Epoch  40] T_loss: 1.1221, T_accuracy: 60.6733 | V_loss: 1.1884, V_accuracy: 58.0000 | V_loss decreased ( 1.212 -->  1.188). Saving model... | T_time: 00:14:10, T_speed: 0.047\n",
      "[Epoch  50] T_loss: 1.0536, T_accuracy: 63.2444 | V_loss: 1.1111, V_accuracy: 61.1000 | V_loss decreased ( 1.188 -->  1.111). Saving model... | T_time: 00:17:41, T_speed: 0.047\n"
     ]
    },
    {
     "name": "stderr",
     "output_type": "stream",
     "text": [
      "wandb: Network error (ConnectionError), entering retry loop.\n"
     ]
    },
    {
     "name": "stdout",
     "output_type": "stream",
     "text": [
      "[Epoch  60] T_loss: 0.9955, T_accuracy: 65.3711 | V_loss: 1.1003, V_accuracy: 61.7000 | V_loss decreased ( 1.111 -->  1.100). Saving model... | T_time: 00:21:10, T_speed: 0.047\n",
      "[Epoch  70] T_loss: 0.9457, T_accuracy: 67.1556 | V_loss: 1.0486, V_accuracy: 64.0800 | V_loss decreased ( 1.100 -->  1.049). Saving model... | T_time: 00:25:04, T_speed: 0.047\n",
      "[Epoch  80] T_loss: 0.9000, T_accuracy: 68.7422 | V_loss: 1.0390, V_accuracy: 64.8200 | V_loss decreased ( 1.049 -->  1.039). Saving model... | T_time: 00:29:04, T_speed: 0.046\n",
      "[Epoch  90] T_loss: 0.8585, T_accuracy: 70.1756 | V_loss: 1.0438, V_accuracy: 64.9400 | Early stopping counter: 1 out of 10 | T_time: 00:32:46, T_speed: 0.046\n",
      "[Epoch 100] T_loss: 0.8185, T_accuracy: 71.6356 | V_loss: 1.0636, V_accuracy: 64.1800 | Early stopping counter: 2 out of 10 | T_time: 00:36:25, T_speed: 0.046\n",
      "[Epoch 110] T_loss: 0.7798, T_accuracy: 72.9822 | V_loss: 1.1000, V_accuracy: 64.0400 | Early stopping counter: 3 out of 10 | T_time: 00:40:06, T_speed: 0.046\n",
      "[Epoch 120] T_loss: 0.7438, T_accuracy: 74.4200 | V_loss: 1.0615, V_accuracy: 64.8600 | Early stopping counter: 4 out of 10 | T_time: 00:43:46, T_speed: 0.046\n",
      "[Epoch 130] T_loss: 0.7089, T_accuracy: 75.4889 | V_loss: 1.0805, V_accuracy: 64.5600 | Early stopping counter: 5 out of 10 | T_time: 00:47:25, T_speed: 0.046\n",
      "[Epoch 140] T_loss: 0.6735, T_accuracy: 76.8111 | V_loss: 1.1181, V_accuracy: 64.0200 | Early stopping counter: 6 out of 10 | T_time: 00:51:06, T_speed: 0.046\n",
      "[Epoch 150] T_loss: 0.6421, T_accuracy: 77.8800 | V_loss: 1.1514, V_accuracy: 63.7400 | Early stopping counter: 7 out of 10 | T_time: 00:54:51, T_speed: 0.046\n",
      "[Epoch 160] T_loss: 0.6131, T_accuracy: 79.0533 | V_loss: 1.1583, V_accuracy: 64.0400 | Early stopping counter: 8 out of 10 | T_time: 00:58:40, T_speed: 0.045\n",
      "[Epoch 170] T_loss: 0.5834, T_accuracy: 79.8467 | V_loss: 1.1781, V_accuracy: 64.1200 | Early stopping counter: 9 out of 10 | T_time: 01:02:27, T_speed: 0.045\n",
      "[Epoch 180] T_loss: 0.5529, T_accuracy: 81.0200 | V_loss: 1.1859, V_accuracy: 64.4200 | Early stopping counter: 10 out of 10 *** TRAIN EARLY STOPPED! *** | T_time: 01:06:16, T_speed: 0.045\n",
      "Final training time: 01:06:16\n"
     ]
    },
    {
     "data": {
      "text/html": [
       "Waiting for W&B process to finish... <strong style=\"color:green\">(success).</strong>"
      ],
      "text/plain": [
       "<IPython.core.display.HTML object>"
      ]
     },
     "metadata": {},
     "output_type": "display_data"
    },
    {
     "data": {
      "text/html": [
       "<style>\n",
       "    table.wandb td:nth-child(1) { padding: 0 10px; text-align: left ; width: auto;} td:nth-child(2) {text-align: left ; width: 100%}\n",
       "    .wandb-row { display: flex; flex-direction: row; flex-wrap: wrap; justify-content: flex-start; width: 100% }\n",
       "    .wandb-col { display: flex; flex-direction: column; flex-basis: 100%; flex: 1; padding: 10px; }\n",
       "    </style>\n",
       "<div class=\"wandb-row\"><div class=\"wandb-col\"><h3>Run history:</h3><br/><table class=\"wandb\"><tr><td>Epoch</td><td>▁▁▂▂▃▃▃▄▄▄▅▅▆▆▆▇▇██</td></tr><tr><td>Training accuracy (%)</td><td>▁▄▅▆▆▆▆▇▇▇▇▇▇▇█████</td></tr><tr><td>Training loss</td><td>█▅▄▄▃▃▃▃▂▂▂▂▂▂▁▁▁▁▁</td></tr><tr><td>Training speed (epochs/sec.)</td><td>▁▇██████▇▇▇▇▇▇▇▇▇▇▇</td></tr><tr><td>Validation accuracy (%)</td><td>▁▅▆▇▇▇█████████████</td></tr><tr><td>Validation loss</td><td>█▄▃▂▂▁▁▁▁▁▁▁▁▁▁▂▂▂▂</td></tr></table><br/></div><div class=\"wandb-col\"><h3>Run summary:</h3><br/><table class=\"wandb\"><tr><td>Epoch</td><td>180</td></tr><tr><td>Training accuracy (%)</td><td>81.02</td></tr><tr><td>Training loss</td><td>0.55292</td></tr><tr><td>Training speed (epochs/sec.)</td><td>0.04527</td></tr><tr><td>Validation accuracy (%)</td><td>64.42</td></tr><tr><td>Validation loss</td><td>1.18589</td></tr></table><br/></div></div>"
      ],
      "text/plain": [
       "<IPython.core.display.HTML object>"
      ]
     },
     "metadata": {},
     "output_type": "display_data"
    },
    {
     "data": {
      "text/html": [
       " View run <strong style=\"color:#cdcd00\">2023-11-01_11-13-52</strong> at: <a href='https://wandb.ai/gihwanjang/cnn_cifar10/runs/7ypur1dp' target=\"_blank\">https://wandb.ai/gihwanjang/cnn_cifar10/runs/7ypur1dp</a><br/> View job at <a href='https://wandb.ai/gihwanjang/cnn_cifar10/jobs/QXJ0aWZhY3RDb2xsZWN0aW9uOjExMTcyOTg4Mg==/version_details/v0' target=\"_blank\">https://wandb.ai/gihwanjang/cnn_cifar10/jobs/QXJ0aWZhY3RDb2xsZWN0aW9uOjExMTcyOTg4Mg==/version_details/v0</a><br/>Synced 5 W&B file(s), 0 media file(s), 2 artifact file(s) and 0 other file(s)"
      ],
      "text/plain": [
       "<IPython.core.display.HTML object>"
      ]
     },
     "metadata": {},
     "output_type": "display_data"
    },
    {
     "data": {
      "text/html": [
       "Find logs at: <code>./wandb/run-20231101_111353-7ypur1dp/logs</code>"
      ],
      "text/plain": [
       "<IPython.core.display.HTML object>"
      ]
     },
     "metadata": {},
     "output_type": "display_data"
    }
   ],
   "source": [
    "if __name__ == \"__main__\":\n",
    "    #parser = get_parser()\n",
    "    #args = parser.parse_args()\n",
    "    args_wandb = True\n",
    "    args_epochs = 200\n",
    "    args_batch_size = 32\n",
    "    args_validation_intervals = 10\n",
    "    args_learning_rate = 0.001\n",
    "    args_early_stop_patience = 10\n",
    "    main(args_wandb, args_epochs, args_batch_size, args_validation_intervals, args_learning_rate, args_early_stop_patience)"
   ]
  },
  {
   "cell_type": "code",
   "execution_count": null,
   "id": "f8360a64",
   "metadata": {},
   "outputs": [],
   "source": []
  },
  {
   "cell_type": "code",
   "execution_count": 17,
   "id": "b86596b8",
   "metadata": {},
   "outputs": [],
   "source": [
    "import torch\n",
    "from torch import nn, optim\n",
    "from torch.utils.data import DataLoader, random_split\n",
    "from torchvision import datasets, transforms\n",
    "from datetime import datetime\n",
    "import os\n",
    "import wandb\n",
    "from pathlib import Path"
   ]
  },
  {
   "cell_type": "code",
   "execution_count": 18,
   "id": "d6cae2f2",
   "metadata": {},
   "outputs": [],
   "source": [
    "def get_cifar10_test_data(flatten=False):\n",
    "    data_path = \"../Data/i_cifar10\"\n",
    "\n",
    "    cifar10_test_images = datasets.CIFAR10(data_path, train=False, download=True)\n",
    "\n",
    "    cifar10_test = datasets.CIFAR10(data_path, train=False, download=False, transform=transforms.ToTensor())\n",
    "    test_data_loader = DataLoader(dataset=cifar10_test, batch_size=len(cifar10_test))\n",
    "\n",
    "    cifar10_transforms = nn.Sequential(\n",
    "        transforms.ConvertImageDtype(torch.float),\n",
    "        transforms.Normalize(mean=0.1307, std=0.3081),\n",
    "    )\n",
    "\n",
    "    if flatten:\n",
    "        cifar10_transforms.append(nn.Flatten())\n",
    "\n",
    "    return cifar10_test_images, test_data_loader, cifar10_transforms"
   ]
  },
  {
   "cell_type": "code",
   "execution_count": 25,
   "id": "22209658",
   "metadata": {},
   "outputs": [],
   "source": [
    "def main():\n",
    "    cifar10_test_images, test_data_loader, cifar10_transforms = get_cifar10_test_data(flatten=False)\n",
    "\n",
    "    test_model = get_cnn_model()\n",
    "    classification_tester = ClassificationTester(\n",
    "        \"cnn_cifar10\", test_model, test_data_loader, cifar10_transforms, CHECKPOINT_FILE_PATH\n",
    "    )\n",
    "    classification_tester.test()\n",
    "\n",
    "    print()\n",
    "\n",
    "    img, label = cifar10_test_images[0]\n",
    "    print(\"     LABEL:\", label)\n",
    "    plt.imshow(img)\n",
    "    plt.show()\n",
    "\n",
    "    # torch.tensor(np.array(cifar10_test_images[0][0])).permute(2, 0, 1).unsqueeze(dim=0).shape: (1, 3, 32, 32)\n",
    "    output = classification_tester.test_single(\n",
    "        torch.tensor(np.array(cifar10_test_images[0][0])).permute(2, 0, 1).unsqueeze(dim=0)\n",
    "    )\n",
    "    print(\"PREDICTION:\", output)"
   ]
  },
  {
   "cell_type": "code",
   "execution_count": 26,
   "id": "2f01a06a",
   "metadata": {},
   "outputs": [
    {
     "name": "stdout",
     "output_type": "stream",
     "text": [
      "Files already downloaded and verified\n",
      "MODEL FILE: ./Mnist_Output/cnn_cifar10_checkpoint_latest.pt\n",
      "TEST RESULTS: 44.650%\n",
      "\n",
      "     LABEL: 3\n"
     ]
    },
    {
     "data": {
      "image/png": "[encoded data removed]",
      "text/plain": [
       "<Figure size 640x480 with 1 Axes>"
      ]
     },
     "metadata": {},
     "output_type": "display_data"
    },
    {
     "name": "stdout",
     "output_type": "stream",
     "text": [
      "PREDICTION: 3\n"
     ]
    }
   ],
   "source": [
    "if __name__ == \"__main__\":\n",
    "    main()"
   ]
  },
  {
   "cell_type": "code",
   "execution_count": null,
   "id": "bcf33855",
   "metadata": {},
   "outputs": [],
   "source": []
  }
 ],
 "metadata": {
  "kernelspec": {
   "display_name": "Python 3 (ipykernel)",
   "language": "python",
   "name": "python3"
  },
  "language_info": {
   "codemirror_mode": {
    "name": "ipython",
    "version": 3
   },
   "file_extension": ".py",
   "mimetype": "text/x-python",
   "name": "python",
   "nbconvert_exporter": "python",
   "pygments_lexer": "ipython3",
   "version": "3.11.4"
  }
 },
 "nbformat": 4,
 "nbformat_minor": 5
}
